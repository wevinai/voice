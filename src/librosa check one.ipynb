{
 "cells": [
  {
   "cell_type": "code",
   "execution_count": 12,
   "metadata": {},
   "outputs": [],
   "source": [
    "import os\n",
    "import librosa\n",
    "\n",
    "path = '/hdd/mlrom/Data/animal_voice/audio/'\n",
    "\n",
    "files = os.listdir(path)"
   ]
  },
  {
   "cell_type": "code",
   "execution_count": 17,
   "metadata": {},
   "outputs": [
    {
     "name": "stdout",
     "output_type": "stream",
     "text": [
      "('145046__thanvannispen__049-oscar-miauw.aiff', (535552,), 22050)\n",
      "('Felis_silvestris_f_domestica_S0429_01_short.mp3', (455616,), 22050)\n",
      "('Felis_silvestris_f_domestica_DIG0105_08_short.mp3', (451008,), 22050)\n",
      "('415209__inspectorj__cat-screaming-a.wav', (39488,), 22050)\n",
      "('Felis_silvestris_f_domestica_S1042_06_short.mp3', (472320,), 22050)\n",
      "('Felis_silvestris_f_domestica_DIG0015_14_short.mp3', (476928,), 22050)\n",
      "('169983__missozzy__hungry-cats.wav', (140333,), 22050)\n",
      "('440735__jbierfeldt__cat-annoyed-meow-wail.wav', (194853,), 22050)\n",
      "('Felis_silvestris_f_domestica_S0618_01_short.mp3', (160128,), 22050)\n",
      "('Felis_silvestris_f_domestica_S0125_01_short.mp3', (459648,), 22050)\n",
      "('Felis_silvestris_f_domestica_DIG0013_05_short.mp3', (492480,), 22050)\n",
      "('Felis_silvestris_f_domestica_DIG0103_01_rear_short.mp3', (467136,), 22050)\n",
      "('260881__trautwein__cat-purr.wav', (1325280,), 22050)\n",
      "('Felis_silvestris_f_domestica_S0548_01_short.mp3', (486144,), 22050)\n",
      "('Felis_silvestris_f_domestica_DIG0013_04_short.mp3', (524736,), 22050)\n",
      "('Felis_silvestris_f_domestica_DIG0103_01_front_short.mp3', (443520,), 22050)\n",
      "('Felis_silvestris_f_domestica_V2012_09_short.mp3', (311040,), 22050)\n",
      "('362953__josepharaoh99__cat-call-meow.mp3', (16190,), 22050)\n",
      "('110011__tuberatanka__cat-meow.wav', (34057,), 22050)\n",
      "('Felis_silvestris_f_domestica_DIG0089_01_short.mp3', (453888,), 22050)\n",
      "('Felis_silvestris_f_domestica_V1542_22_short.mp3', (476928,), 22050)\n",
      "('120160__oneirophile__cat-wants-food.wav', (216502,), 22050)\n",
      "('327438__softcoresoft__cat-angry-meow.wav', (349008,), 22050)\n",
      "('76879__noisecollector__hungrycat.wav', (1000448,), 22050)\n",
      "('Felis_silvestris_f_domestica_S0106_01_short.mp3', (523584,), 22050)\n",
      "('Felis_silvestris_f_domestica_S0292_05_short.mp3', (130752,), 22050)\n",
      "('Felis_silvestris_f_domestica_S1103_03_short.mp3', (438336,), 22050)\n",
      "('Felis_silvestris_f_domestica_S0001_01_short.mp3', (495936,), 22050)\n",
      "('Felis_silvestris_f_domestica_S0050_01_short.mp3', (509184,), 22050)\n",
      "('49784__urmumsacow__angry-cat.wav', (220500,), 22050)\n",
      "30\n"
     ]
    }
   ],
   "source": [
    "for name in files:\n",
    "    y, sr = librosa.load(path + name)\n",
    "    print(name, y.shape, sr)\n",
    "\n",
    "print len(files)"
   ]
  },
  {
   "cell_type": "code",
   "execution_count": null,
   "metadata": {},
   "outputs": [],
   "source": []
  }
 ],
 "metadata": {
  "kernelspec": {
   "display_name": "Python 2",
   "language": "python",
   "name": "python2"
  },
  "language_info": {
   "codemirror_mode": {
    "name": "ipython",
    "version": 2
   },
   "file_extension": ".py",
   "mimetype": "text/x-python",
   "name": "python",
   "nbconvert_exporter": "python",
   "pygments_lexer": "ipython2",
   "version": "2.7.12"
  }
 },
 "nbformat": 4,
 "nbformat_minor": 2
}
